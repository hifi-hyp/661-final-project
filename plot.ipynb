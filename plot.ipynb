{
 "cells": [
  {
   "cell_type": "code",
   "execution_count": 1,
   "id": "e40a971b",
   "metadata": {},
   "outputs": [],
   "source": [
    "import matplotlib.pyplot as plt\n",
    "from imagecorruptions import corrupt\n",
    "import numpy as np\n",
    "import re\n",
    "import math"
   ]
  },
  {
   "cell_type": "code",
   "execution_count": 10,
   "id": "fae89d59",
   "metadata": {},
   "outputs": [],
   "source": [
    "img = np.load('./img_sample.npy')"
   ]
  },
  {
   "cell_type": "code",
   "execution_count": 11,
   "id": "9690a930",
   "metadata": {},
   "outputs": [],
   "source": [
    "method_list = ['none', 'cutout', 'mixup', 'rotate', 'comb']"
   ]
  },
  {
   "cell_type": "code",
   "execution_count": 33,
   "id": "ba65991b",
   "metadata": {},
   "outputs": [],
   "source": [
    "loss = []\n",
    "acc = []\n",
    "for method in method_list:\n",
    "    path = '/Users/hifi/Desktop/661_project/code/log/' + method + '_train.log'\n",
    "    fp = open(path)\n",
    "    flag = 0\n",
    "    for line in fp.readlines():\n",
    "        if 'Epoch 199:' in line:\n",
    "            flag = 1\n",
    "        if flag == 1 and 'Validation' in line:\n",
    "            val_loss = re.findall(r\"\\d+\\.?\\d*\", line)[0]\n",
    "            val_acc = re.findall(r\"\\d+\\.?\\d*\", line)[1]\n",
    "            loss.append(float(val_loss))\n",
    "            acc.append(float(val_acc))"
   ]
  },
  {
   "cell_type": "code",
   "execution_count": 40,
   "id": "ddd10eb7",
   "metadata": {},
   "outputs": [
    {
     "data": {
      "text/plain": [
       "(0.8, 0.95)"
      ]
     },
     "execution_count": 40,
     "metadata": {},
     "output_type": "execute_result"
    },
    {
     "data": {
      "image/png": "[encoded data removed]",
      "text/plain": [
       "<Figure size 432x288 with 1 Axes>"
      ]
     },
     "metadata": {
      "needs_background": "light"
     },
     "output_type": "display_data"
    }
   ],
   "source": [
    "y = acc\n",
    "plt.bar(method_list, y)\n",
    "plt.ylim(0.8, 0.95)       "
   ]
  },
  {
   "cell_type": "code",
   "execution_count": null,
   "id": "7c3210d2",
   "metadata": {},
   "outputs": [],
   "source": []
  }
 ],
 "metadata": {
  "kernelspec": {
   "display_name": "Python 3",
   "language": "python",
   "name": "python3"
  },
  "language_info": {
   "codemirror_mode": {
    "name": "ipython",
    "version": 3
   },
   "file_extension": ".py",
   "mimetype": "text/x-python",
   "name": "python",
   "nbconvert_exporter": "python",
   "pygments_lexer": "ipython3",
   "version": "3.7.6"
  }
 },
 "nbformat": 4,
 "nbformat_minor": 5
}
